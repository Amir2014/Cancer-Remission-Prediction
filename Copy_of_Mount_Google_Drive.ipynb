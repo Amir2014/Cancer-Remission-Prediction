{
  "nbformat": 4,
  "nbformat_minor": 0,
  "metadata": {
    "colab": {
      "provenance": [],
      "authorship_tag": "ABX9TyOzpOQkJmqZI6pZPuT6ETAI",
      "include_colab_link": true
    },
    "kernelspec": {
      "name": "python3",
      "display_name": "Python 3"
    },
    "language_info": {
      "name": "python"
    }
  },
  "cells": [
    {
      "cell_type": "markdown",
      "metadata": {
        "id": "view-in-github",
        "colab_type": "text"
      },
      "source": [
        "<a href=\"https://colab.research.google.com/github/Amir2014/Cancer-Remission-Prediction/blob/master/Copy_of_Mount_Google_Drive.ipynb\" target=\"_parent\"><img src=\"https://colab.research.google.com/assets/colab-badge.svg\" alt=\"Open In Colab\"/></a>"
      ]
    },
    {
      "cell_type": "code",
      "execution_count": null,
      "metadata": {
        "id": "diRwAprHFHE4"
      },
      "outputs": [],
      "source": [
        "#  Mount Google Drive\n",
        "from google.colab import drive\n",
        "import os\n",
        "\n",
        "drive.mount('/content/drive')  # Connect your Google Drive\n",
        "\n",
        "#  Set the root path to scan\n",
        "# You can change this to point to a subfolder, e.g. \"/content/drive/MyDrive/Strictly/Footage\"\n",
        "folder_path = \"/content/drive/MyDrive\"\n",
        "\n",
        "#  Recursive folder tree printer\n",
        "def list_files(startpath, depth=3):\n",
        "    \"\"\"\n",
        "    Print a tree-like structure of files and folders in the given path.\n",
        "    - startpath: root folder to scan\n",
        "    - depth: how deep into subfolders to go (default is 3 levels)\n",
        "    \"\"\"\n",
        "    for root, dirs, files in os.walk(startpath):\n",
        "        level = root.replace(startpath, '').count(os.sep)\n",
        "        if level > depth:\n",
        "            continue\n",
        "        indent = ' ' * 2 * level\n",
        "        print(f\"{indent}{os.path.basename(root)}/\")\n",
        "        subindent = ' ' * 2 * (level + 1)\n",
        "        for f in files:\n",
        "            print(f\"{subindent}{f}\")\n",
        "\n",
        "#  Run the folder tree function\n",
        "list_files(folder_path, depth=3)\n"
      ]
    }
  ]
}
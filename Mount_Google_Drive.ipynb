{
  "nbformat": 4,
  "nbformat_minor": 0,
  "metadata": {
    "colab": {
      "provenance": [],
      "authorship_tag": "ABX9TyOzpOQkJmqZI6pZPuT6ETAI",
      "include_colab_link": true
    },
    "kernelspec": {
      "name": "python3",
      "display_name": "Python 3"
    },
    "language_info": {
      "name": "python"
    }
  },
  "cells": [
    {
      "cell_type": "markdown",
      "metadata": {
        "id": "view-in-github",
        "colab_type": "text"
      },
      "source": [
        "<a href=\"https://colab.research.google.com/github/Amir2014/Cancer-Remission-Prediction/blob/master/Mount_Google_Drive.ipynb\" target=\"_parent\"><img src=\"https://colab.research.google.com/assets/colab-badge.svg\" alt=\"Open In Colab\"/></a>"
      ]
    },
    {
      "cell_type": "code",
      "execution_count": 2,
      "metadata": {
        "colab": {
          "base_uri": "https://localhost:8080/"
        },
        "id": "diRwAprHFHE4",
        "outputId": "c82e1e6b-a573-4527-9713-852ec7242ec2"
      },
      "outputs": [
        {
          "output_type": "stream",
          "name": "stdout",
          "text": [
            "Drive already mounted at /content/drive; to attempt to forcibly remount, call drive.mount(\"/content/drive\", force_remount=True).\n",
            "MyDrive/\n",
            "  2021-09-29 Scrum Board.pdf\n",
            "  20210928-AWS-IoT- QuickSight  Amir-Emami.pdf\n",
            "  20210930-ETL-ELT än att göra det på en PC-Amir-Emami.pdf\n",
            "  20210924-AWS-konto -IOT-BI20-Amir Emami.pdf\n",
            "  2021-09-28 Scrum Board.pdf\n",
            "  2021-10-03 Scrum Board.pdf\n",
            "  20210924-IoT-Bi20-Am LogBook.pdf\n",
            "  20210927-IoT-Bi20-Am LogBook.pdf\n",
            "  20210928-IoT-Bi20-Am LogBook.pdf\n",
            "  20210929-IoT-Bi20-Am LogBook.pdf\n",
            "  V38(20210920-20210926)-IoT-Bi20-Am LogBook.pdf\n",
            "  20210930-IoT-Bi20-Am LogBook.pdf\n",
            "  2021-09-30 Scrum Board.pdf\n",
            "  2021-10-01-Scrum Board.pdf\n",
            "  V39(20210927-20211903)-IoT-Bi20-Am LogBook.pdf\n",
            "  20211003-IoT-Bi20-Am LogBook.pdf\n",
            "  20211003-10 b-vilka verktyg som finns i ditt teams moln.pdf\n",
            "  20211004-IoT-Bi20-Am LogBook.pdf\n",
            "  20211004-10H - Beskriva hur Power BI azure kan användas.pdf\n",
            "  20211004-10I - Beskriva hur API kan användas mot ovan vald molntjänst.pdf\n",
            "  20211004-Stand-Up_Amir- IoT-Bi20.pdf\n",
            "  20211004-Scrum Board.pdf\n",
            "  20211005-Kort not Molntjänst ETLELT fördelar versus ’on-premise’ verktyg.pdf\n",
            "  20211005-Stand-Up_Amir- IoT-Bi20.pdf\n",
            "  20211005-IoT-Bi20-Am LogBook.pdf\n",
            "  2021-10-05 Scrum Board.pdf\n",
            "  20211006-IoT-Bi20-Am LogBook.pdf\n",
            "  V40(20211004-20211006)-IoT-Bi20-Am LogBook.pdf\n",
            "  20211006-Iot Grupp 5 - presentation.pdf\n",
            "  20211006-Stand-Up_Amir- IoT-Bi20.pdf\n",
            "  20211006-IoT Grupp5 Guide 2021-10-05.pdf\n",
            "  9789647196307.jpg\n",
            "  Untitled0.ipynb\n",
            "  تولید هوشمند: سایبر-فیزیکی و انسان‌محور\n",
            ".gdoc\n",
            "  Trender inom Smart Produktion: Cyber-Fysiska och Människo-Centrerade System\n",
            ".gdoc\n",
            "  می خواهم  به سبک و استایل من و براساس من می دانم... (4).gsheet\n",
            "  می خواهم  به سبک و استایل من و براساس من می دانم... (3).gsheet\n",
            "  می خواهم  به سبک و استایل من و براساس من می دانم... (2).gsheet\n",
            "  می خواهم  به سبک و استایل من و براساس من می دانم... (1).gsheet\n",
            "  می خواهم  به سبک و استایل من و براساس من می دانم....gsheet\n",
            "  بازتاب افکار در مورد CPS\n",
            ".gdoc\n",
            "  Untitled document (2).gdoc\n",
            "  Untitled document (1).gdoc\n",
            "  Untitled document.gdoc\n",
            "  اما قبل اش باید در Simumatik \n",
            "Factory که استاد گفت....gdoc\n",
            "  راهنمay گام‌به‌گام پروژه Python + MQTT + Node-RED.gdoc\n",
            "  Colab Notebooks/\n",
            "    Untitled5.ipynb\n",
            "    Untitled0.ipynb\n",
            "    Untitled1.ipynb\n",
            "    Demo colab.ipynb\n",
            "    Untitled\n",
            "    Untitled2.ipynb\n",
            "    Copy of Generating random dataScaniaBI.ipynb\n",
            "    Generating random dataScaniaBI.ipynb\n",
            "    Untitled3.ipynb\n",
            "    Untitled4.ipynb\n",
            "    Copy of CahngeFormatHEIC.ipynb\n",
            "    CahngeFormatHEIC.ipynb\n",
            "    Ptython1.ipynb\n",
            "    chatgpt_colab.ipynb\n",
            "  IOT-Bi20-Amir Emami/\n",
            "    AWS-konto -IOT-BI20-Amir Emami.pdf\n",
            "    AWS-IoT-2021-09-28 QuickSight Amir-Emami.docx\n",
            "  TVL601 HV-33356/\n",
            "    video1537768830.mp4\n",
            "  Google AI Studio/\n",
            "    Comparing Decimals 9.9 and 9.11\n",
            "    video_generation_0\n",
            "  For Shair ChatCTP AI/\n",
            "    000FAmazonJeld9789198937787A journey to belonging_Rahele Behzadi_Arzan_Amir_V1.0.0-Ebook.jpg\n",
            "  UN/\n",
            "    VP759A_Cyberfysiska system för industrin A1N/\n",
            "      Using Python to program an automated system.gdoc\n"
          ]
        }
      ],
      "source": [
        "#  Mount Google Drive\n",
        "from google.colab import drive\n",
        "import os\n",
        "\n",
        "drive.mount('/content/drive')  # Connect your Google Drive\n",
        "\n",
        "#  Set the root path to scan\n",
        "# You can change this to point to a subfolder, e.g. \"/content/drive/MyDrive/Strictly/Footage\"\n",
        "folder_path = \"/content/drive/MyDrive\"\n",
        "\n",
        "#  Recursive folder tree printer\n",
        "def list_files(startpath, depth=3):\n",
        "    \"\"\"\n",
        "    Print a tree-like structure of files and folders in the given path.\n",
        "    - startpath: root folder to scan\n",
        "    - depth: how deep into subfolders to go (default is 3 levels)\n",
        "    \"\"\"\n",
        "    for root, dirs, files in os.walk(startpath):\n",
        "        level = root.replace(startpath, '').count(os.sep)\n",
        "        if level > depth:\n",
        "            continue\n",
        "        indent = ' ' * 2 * level\n",
        "        print(f\"{indent}{os.path.basename(root)}/\")\n",
        "        subindent = ' ' * 2 * (level + 1)\n",
        "        for f in files:\n",
        "            print(f\"{subindent}{f}\")\n",
        "\n",
        "#  Run the folder tree function\n",
        "list_files(folder_path, depth=3)\n"
      ]
    }
  ]
}